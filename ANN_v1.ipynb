{
  "nbformat": 4,
  "nbformat_minor": 0,
  "metadata": {
    "colab": {
      "name": "ANN-v1.ipynb",
      "provenance": [],
      "collapsed_sections": [],
      "authorship_tag": "ABX9TyP5f8wU2DBJqjZl3GChjfzK",
      "include_colab_link": true
    },
    "kernelspec": {
      "name": "python3",
      "display_name": "Python 3"
    },
    "language_info": {
      "name": "python"
    }
  },
  "cells": [
    {
      "cell_type": "markdown",
      "metadata": {
        "id": "view-in-github",
        "colab_type": "text"
      },
      "source": [
        "<a href=\"https://colab.research.google.com/github/alirezakavianifar/machineLearning/blob/main/ANN_v1.ipynb\" target=\"_parent\"><img src=\"https://colab.research.google.com/assets/colab-badge.svg\" alt=\"Open In Colab\"/></a>"
      ]
    },
    {
      "cell_type": "markdown",
      "source": [
        "##Import necessary libraries and load the dataset\n"
      ],
      "metadata": {
        "id": "I92r_-13sPGo"
      }
    },
    {
      "cell_type": "code",
      "execution_count": 10,
      "metadata": {
        "id": "A5sJrVGLlGP_"
      },
      "outputs": [],
      "source": [
        "import pandas as pd\n",
        "import numpy as np\n",
        "import matplotlib.pyplot as plt\n",
        "import io\n",
        "import requests\n",
        "url=\"https://github.com/2blam/ML/raw/master/deep_learning/Churn_Modelling.csv\"\n",
        "s=requests.get(url).content\n",
        "df=pd.read_csv(io.StringIO(s.decode('utf-8')))"
      ]
    },
    {
      "cell_type": "markdown",
      "source": [
        "## Split the data into independant and dependant vatiables and convert categorical variables"
      ],
      "metadata": {
        "id": "dMBXBdG2s6ju"
      }
    },
    {
      "cell_type": "code",
      "source": [
        "X = df.iloc[:, 3:13]\n",
        "y = df.iloc[:, 13]\n",
        "\n",
        "geography = pd.get_dummies(X[\"Geography\"],drop_first=True)\n",
        "gender = pd.get_dummies(X[\"Gender\"], drop_first=True)"
      ],
      "metadata": {
        "id": "u32-htm3nfKv"
      },
      "execution_count": 12,
      "outputs": []
    },
    {
      "cell_type": "code",
      "source": [
        "X = pd.concat([X,geography,gender], axis=1)"
      ],
      "metadata": {
        "id": "5Lcv3kKTomK0"
      },
      "execution_count": 14,
      "outputs": []
    },
    {
      "cell_type": "code",
      "source": [
        "X = X.drop(['Geography','Gender'], axis=1)"
      ],
      "metadata": {
        "id": "tM9iNEwfpSPb"
      },
      "execution_count": 15,
      "outputs": []
    },
    {
      "cell_type": "markdown",
      "source": [
        "## Split the data into training and testing"
      ],
      "metadata": {
        "id": "7bHmXt9atN3G"
      }
    },
    {
      "cell_type": "markdown",
      "source": [
        "from sklearn.model_selection import train_test_split"
      ],
      "metadata": {
        "id": "vwwUub8Dpg06"
      }
    },
    {
      "cell_type": "code",
      "source": [
        "X_train, X_test, y_train, y_test = train_test_split(X, y, test_size= 0.2, random_state=5)"
      ],
      "metadata": {
        "id": "k5aeLCJopo2T"
      },
      "execution_count": 17,
      "outputs": []
    },
    {
      "cell_type": "markdown",
      "source": [
        "# Scale the data"
      ],
      "metadata": {
        "id": "RJzs9KzAtnzO"
      }
    },
    {
      "cell_type": "code",
      "source": [
        "from sklearn.preprocessing import StandardScaler"
      ],
      "metadata": {
        "id": "K0fW6gDOp6nk"
      },
      "execution_count": 18,
      "outputs": []
    },
    {
      "cell_type": "code",
      "source": [
        "sc = StandardScaler()\n",
        "X_train = sc.fit_transform(X_train)\n",
        "X_test = sc.transform(X_test)"
      ],
      "metadata": {
        "id": "pK2f1_J6qEex"
      },
      "execution_count": 19,
      "outputs": []
    },
    {
      "cell_type": "markdown",
      "source": [
        "## Importing keras libraries"
      ],
      "metadata": {
        "id": "pB-bDVRtuko9"
      }
    },
    {
      "cell_type": "code",
      "source": [
        "import keras\n",
        "from keras.models import Sequential\n",
        "from keras.layers import Dense"
      ],
      "metadata": {
        "id": "N_NamD5zqdmS"
      },
      "execution_count": 27,
      "outputs": []
    },
    {
      "cell_type": "markdown",
      "source": [
        "## Initializing the ANN"
      ],
      "metadata": {
        "id": "65lcVm6qw41L"
      }
    },
    {
      "cell_type": "code",
      "source": [
        "classifier = Sequential()    "
      ],
      "metadata": {
        "id": "G6VBB_k_wyxJ"
      },
      "execution_count": 28,
      "outputs": []
    },
    {
      "cell_type": "markdown",
      "source": [
        "## Importing ANN libraries"
      ],
      "metadata": {
        "id": "niT4NR_3ySFe"
      }
    },
    {
      "cell_type": "code",
      "source": [
        "from keras.wrappers.scikit_learn import KerasClassifier\n",
        "from sklearn.model_selection import GridSearchCV\n",
        "\n",
        "from keras.models import Sequential\n",
        "from keras.layers import Dropout\n",
        "from keras.layers import Dense, Activation, Embedding, Flatten, LeakyReLU, BatchNormalization\n",
        "from keras.activations import relu, sigmoid"
      ],
      "metadata": {
        "id": "JG1jMw31yv28"
      },
      "execution_count": 34,
      "outputs": []
    },
    {
      "cell_type": "code",
      "source": [
        "\n",
        "def create_model(layers, activation):\n",
        "  model = Sequential()\n",
        "  for i , nodes in enumerate(layers):\n",
        "    if i==0:\n",
        "      model.add(Dense(nodes,input_dim=X_train.shape[1]))\n",
        "      model.add(Activation(activation))\n",
        "      model.add(Dropout(0.3))\n",
        "    else:\n",
        "      model.add(Dense(nodes))\n",
        "      model.add(Activation(activation))\n",
        "      model.add(Dropout(0.3))\n",
        "\n",
        "    model.add(Dense(units = 1, kernel_initializer= 'glorot_uniform', activation = 'sigmoid'))\n",
        "\n",
        "    model.compile(optimizer='adam', loss='binary_crossentropy', metrics=['accuracy'])\n",
        "    return model"
      ],
      "metadata": {
        "id": "z2Y1usqsypYc"
      },
      "execution_count": 30,
      "outputs": []
    },
    {
      "cell_type": "code",
      "source": [
        "model = KerasClassifier(build_fn=create_model, verbose=0)"
      ],
      "metadata": {
        "colab": {
          "base_uri": "https://localhost:8080/"
        },
        "id": "wXfZ2PtB3oP4",
        "outputId": "ddad9231-d0c9-4586-e785-8e894aee0e5c"
      },
      "execution_count": 31,
      "outputs": [
        {
          "output_type": "stream",
          "name": "stderr",
          "text": [
            "/usr/local/lib/python3.7/dist-packages/ipykernel_launcher.py:1: DeprecationWarning: KerasClassifier is deprecated, use Sci-Keras (https://github.com/adriangb/scikeras) instead.\n",
            "  \"\"\"Entry point for launching an IPython kernel.\n"
          ]
        }
      ]
    },
    {
      "cell_type": "code",
      "source": [
        "layers = [[20],[40, 20],[45, 30, 15]]\n",
        "activations = ['sigmoid', 'relu']\n",
        "param_grid = dict(layers=layers, activation=activations, batch_size=[128, 256], epochs=[30])\n",
        "grid=GridSearchCV(estimator=model, param_grid=param_grid, cv=5)\n",
        "\n",
        "grid_result = grid.fit(X_train, y_train)\n"
      ],
      "metadata": {
        "id": "zwCagwYe4o1k"
      },
      "execution_count": 35,
      "outputs": []
    },
    {
      "cell_type": "markdown",
      "source": [
        "## Model best results"
      ],
      "metadata": {
        "id": "M5C_2qjO8iu9"
      }
    },
    {
      "cell_type": "code",
      "source": [
        "print(grid_result.best_score_, grid_result.best_params_)"
      ],
      "metadata": {
        "colab": {
          "base_uri": "https://localhost:8080/"
        },
        "id": "oIhaMU_28Jje",
        "outputId": "ec532a42-c691-4ebc-c034-8da5e4feb8bd"
      },
      "execution_count": 36,
      "outputs": [
        {
          "output_type": "stream",
          "name": "stdout",
          "text": [
            "0.8545000076293945 {'activation': 'relu', 'batch_size': 128, 'epochs': 30, 'layers': [45, 30, 15]}\n"
          ]
        }
      ]
    },
    {
      "cell_type": "code",
      "source": [
        "pred_y = grid.predict(X_test)\n",
        "y_pred = (pred_y>0.5)"
      ],
      "metadata": {
        "id": "xSQx6UiB8gCm"
      },
      "execution_count": 37,
      "outputs": []
    },
    {
      "cell_type": "code",
      "source": [
        "from sklearn.metrics import confusion_matrix, accuracy_score\n",
        "\n",
        "cm=confusion_matrix(y_pred, y_test)\n",
        "\n",
        "score = accuracy_score(y_pred, y_test)"
      ],
      "metadata": {
        "id": "VvLdD0XL9Dra"
      },
      "execution_count": 38,
      "outputs": []
    }
  ]
}